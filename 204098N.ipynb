{
 "cells": [
  {
   "cell_type": "markdown",
   "id": "fa1ff1d6",
   "metadata": {},
   "source": [
    "# Hotel Booking cansellation prediction"
   ]
  },
  {
   "cell_type": "markdown",
   "id": "c515c826",
   "metadata": {},
   "source": [
    "**Introduction to the case**\n",
    "\n",
    "* Nowadays, the hotel industry is facing a significant challenge of increasing booking cancellations. This issue is negatively affecting hotel revenue and complicating future planning for room arrangements.\n",
    "\n",
    "* This study mainly focuses on the prediction of the cancellation of hotel bookings. At last, the user will be able to get a better idea about the probability of the cancellation of a specific booking."
   ]
  },
  {
   "cell_type": "markdown",
   "id": "a2204607",
   "metadata": {},
   "source": [
    "**About the dataset**\n",
    "\n",
    "* The data is originally from the article Hotel Booking Demand Datasets, written by Nuno Antonio, Ana Almeida, and Luis Nunes for Data in Brief, Volume 22, February 2019.\n",
    "this data set contanis 31 features and 199K entries."
   ]
  },
  {
   "cell_type": "markdown",
   "id": "2e28e18d",
   "metadata": {},
   "source": [
    "**imports**"
   ]
  },
  {
   "cell_type": "code",
   "execution_count": 1,
   "id": "b228b3a6",
   "metadata": {},
   "outputs": [],
   "source": [
    "import pandas as pd\n",
    "import numpy as np\n",
    "import seaborn as sns\n",
    "import matplotlib.pyplot as plt\n",
    "from sklearn.metrics import accuracy_score \n",
    "from sklearn.preprocessing import LabelEncoder\n",
    "from sklearn.model_selection import train_test_split, cross_val_score,GridSearchCV\n",
    "from sklearn.preprocessing import StandardScaler\n",
    "from sklearn.ensemble import RandomForestClassifier, VotingClassifier\n",
    "from sklearn.linear_model import LogisticRegression\n",
    "from sklearn.svm import SVC\n",
    "from sklearn.tree import DecisionTreeClassifier\n",
    "from sklearn.naive_bayes import GaussianNB\n",
    "from sklearn.neighbors import KNeighborsClassifier\n",
    "from sklearn.metrics import classification_report, confusion_matrix"
   ]
  },
  {
   "cell_type": "markdown",
   "id": "14b753b4",
   "metadata": {},
   "source": [
    "**load the dataset**"
   ]
  },
  {
   "cell_type": "code",
   "execution_count": 2,
   "id": "dd20cda2",
   "metadata": {},
   "outputs": [],
   "source": [
    "data = pd.read_csv(\"hotel_bookings.csv\")"
   ]
  },
  {
   "cell_type": "markdown",
   "id": "e1c95102",
   "metadata": {},
   "source": [
    "**Display the first few rows**"
   ]
  },
  {
   "cell_type": "code",
   "execution_count": 3,
   "id": "e2573b6f",
   "metadata": {},
   "outputs": [
    {
     "data": {
      "text/html": [
       "<div>\n",
       "<style scoped>\n",
       "    .dataframe tbody tr th:only-of-type {\n",
       "        vertical-align: middle;\n",
       "    }\n",
       "\n",
       "    .dataframe tbody tr th {\n",
       "        vertical-align: top;\n",
       "    }\n",
       "\n",
       "    .dataframe thead th {\n",
       "        text-align: right;\n",
       "    }\n",
       "</style>\n",
       "<table border=\"1\" class=\"dataframe\">\n",
       "  <thead>\n",
       "    <tr style=\"text-align: right;\">\n",
       "      <th></th>\n",
       "      <th>hotel</th>\n",
       "      <th>is_canceled</th>\n",
       "      <th>lead_time</th>\n",
       "      <th>arrival_date_year</th>\n",
       "      <th>arrival_date_month</th>\n",
       "      <th>arrival_date_week_number</th>\n",
       "      <th>arrival_date_day_of_month</th>\n",
       "      <th>stays_in_weekend_nights</th>\n",
       "      <th>stays_in_week_nights</th>\n",
       "      <th>adults</th>\n",
       "      <th>...</th>\n",
       "      <th>deposit_type</th>\n",
       "      <th>agent</th>\n",
       "      <th>company</th>\n",
       "      <th>days_in_waiting_list</th>\n",
       "      <th>customer_type</th>\n",
       "      <th>adr</th>\n",
       "      <th>required_car_parking_spaces</th>\n",
       "      <th>total_of_special_requests</th>\n",
       "      <th>reservation_status</th>\n",
       "      <th>reservation_status_date</th>\n",
       "    </tr>\n",
       "  </thead>\n",
       "  <tbody>\n",
       "    <tr>\n",
       "      <th>0</th>\n",
       "      <td>Resort Hotel</td>\n",
       "      <td>0</td>\n",
       "      <td>342</td>\n",
       "      <td>2015</td>\n",
       "      <td>July</td>\n",
       "      <td>27</td>\n",
       "      <td>1</td>\n",
       "      <td>0</td>\n",
       "      <td>0</td>\n",
       "      <td>2</td>\n",
       "      <td>...</td>\n",
       "      <td>No Deposit</td>\n",
       "      <td>NaN</td>\n",
       "      <td>NaN</td>\n",
       "      <td>0</td>\n",
       "      <td>Transient</td>\n",
       "      <td>0.0</td>\n",
       "      <td>0</td>\n",
       "      <td>0</td>\n",
       "      <td>Check-Out</td>\n",
       "      <td>2015-07-01</td>\n",
       "    </tr>\n",
       "    <tr>\n",
       "      <th>1</th>\n",
       "      <td>Resort Hotel</td>\n",
       "      <td>0</td>\n",
       "      <td>737</td>\n",
       "      <td>2015</td>\n",
       "      <td>July</td>\n",
       "      <td>27</td>\n",
       "      <td>1</td>\n",
       "      <td>0</td>\n",
       "      <td>0</td>\n",
       "      <td>2</td>\n",
       "      <td>...</td>\n",
       "      <td>No Deposit</td>\n",
       "      <td>NaN</td>\n",
       "      <td>NaN</td>\n",
       "      <td>0</td>\n",
       "      <td>Transient</td>\n",
       "      <td>0.0</td>\n",
       "      <td>0</td>\n",
       "      <td>0</td>\n",
       "      <td>Check-Out</td>\n",
       "      <td>2015-07-01</td>\n",
       "    </tr>\n",
       "    <tr>\n",
       "      <th>2</th>\n",
       "      <td>Resort Hotel</td>\n",
       "      <td>0</td>\n",
       "      <td>7</td>\n",
       "      <td>2015</td>\n",
       "      <td>July</td>\n",
       "      <td>27</td>\n",
       "      <td>1</td>\n",
       "      <td>0</td>\n",
       "      <td>1</td>\n",
       "      <td>1</td>\n",
       "      <td>...</td>\n",
       "      <td>No Deposit</td>\n",
       "      <td>NaN</td>\n",
       "      <td>NaN</td>\n",
       "      <td>0</td>\n",
       "      <td>Transient</td>\n",
       "      <td>75.0</td>\n",
       "      <td>0</td>\n",
       "      <td>0</td>\n",
       "      <td>Check-Out</td>\n",
       "      <td>2015-07-02</td>\n",
       "    </tr>\n",
       "    <tr>\n",
       "      <th>3</th>\n",
       "      <td>Resort Hotel</td>\n",
       "      <td>0</td>\n",
       "      <td>13</td>\n",
       "      <td>2015</td>\n",
       "      <td>July</td>\n",
       "      <td>27</td>\n",
       "      <td>1</td>\n",
       "      <td>0</td>\n",
       "      <td>1</td>\n",
       "      <td>1</td>\n",
       "      <td>...</td>\n",
       "      <td>No Deposit</td>\n",
       "      <td>304.0</td>\n",
       "      <td>NaN</td>\n",
       "      <td>0</td>\n",
       "      <td>Transient</td>\n",
       "      <td>75.0</td>\n",
       "      <td>0</td>\n",
       "      <td>0</td>\n",
       "      <td>Check-Out</td>\n",
       "      <td>2015-07-02</td>\n",
       "    </tr>\n",
       "    <tr>\n",
       "      <th>4</th>\n",
       "      <td>Resort Hotel</td>\n",
       "      <td>0</td>\n",
       "      <td>14</td>\n",
       "      <td>2015</td>\n",
       "      <td>July</td>\n",
       "      <td>27</td>\n",
       "      <td>1</td>\n",
       "      <td>0</td>\n",
       "      <td>2</td>\n",
       "      <td>2</td>\n",
       "      <td>...</td>\n",
       "      <td>No Deposit</td>\n",
       "      <td>240.0</td>\n",
       "      <td>NaN</td>\n",
       "      <td>0</td>\n",
       "      <td>Transient</td>\n",
       "      <td>98.0</td>\n",
       "      <td>0</td>\n",
       "      <td>1</td>\n",
       "      <td>Check-Out</td>\n",
       "      <td>2015-07-03</td>\n",
       "    </tr>\n",
       "  </tbody>\n",
       "</table>\n",
       "<p>5 rows × 32 columns</p>\n",
       "</div>"
      ],
      "text/plain": [
       "          hotel  is_canceled  lead_time  arrival_date_year arrival_date_month  \\\n",
       "0  Resort Hotel            0        342               2015               July   \n",
       "1  Resort Hotel            0        737               2015               July   \n",
       "2  Resort Hotel            0          7               2015               July   \n",
       "3  Resort Hotel            0         13               2015               July   \n",
       "4  Resort Hotel            0         14               2015               July   \n",
       "\n",
       "   arrival_date_week_number  arrival_date_day_of_month  \\\n",
       "0                        27                          1   \n",
       "1                        27                          1   \n",
       "2                        27                          1   \n",
       "3                        27                          1   \n",
       "4                        27                          1   \n",
       "\n",
       "   stays_in_weekend_nights  stays_in_week_nights  adults  ...  deposit_type  \\\n",
       "0                        0                     0       2  ...    No Deposit   \n",
       "1                        0                     0       2  ...    No Deposit   \n",
       "2                        0                     1       1  ...    No Deposit   \n",
       "3                        0                     1       1  ...    No Deposit   \n",
       "4                        0                     2       2  ...    No Deposit   \n",
       "\n",
       "   agent company days_in_waiting_list customer_type   adr  \\\n",
       "0    NaN     NaN                    0     Transient   0.0   \n",
       "1    NaN     NaN                    0     Transient   0.0   \n",
       "2    NaN     NaN                    0     Transient  75.0   \n",
       "3  304.0     NaN                    0     Transient  75.0   \n",
       "4  240.0     NaN                    0     Transient  98.0   \n",
       "\n",
       "   required_car_parking_spaces  total_of_special_requests  reservation_status  \\\n",
       "0                            0                          0           Check-Out   \n",
       "1                            0                          0           Check-Out   \n",
       "2                            0                          0           Check-Out   \n",
       "3                            0                          0           Check-Out   \n",
       "4                            0                          1           Check-Out   \n",
       "\n",
       "  reservation_status_date  \n",
       "0              2015-07-01  \n",
       "1              2015-07-01  \n",
       "2              2015-07-02  \n",
       "3              2015-07-02  \n",
       "4              2015-07-03  \n",
       "\n",
       "[5 rows x 32 columns]"
      ]
     },
     "execution_count": 3,
     "metadata": {},
     "output_type": "execute_result"
    }
   ],
   "source": [
    "data.head()"
   ]
  },
  {
   "cell_type": "markdown",
   "id": "bd091376",
   "metadata": {},
   "source": [
    "**data description**"
   ]
  },
  {
   "cell_type": "code",
   "execution_count": 4,
   "id": "f29f246e",
   "metadata": {},
   "outputs": [
    {
     "data": {
      "text/html": [
       "<div>\n",
       "<style scoped>\n",
       "    .dataframe tbody tr th:only-of-type {\n",
       "        vertical-align: middle;\n",
       "    }\n",
       "\n",
       "    .dataframe tbody tr th {\n",
       "        vertical-align: top;\n",
       "    }\n",
       "\n",
       "    .dataframe thead th {\n",
       "        text-align: right;\n",
       "    }\n",
       "</style>\n",
       "<table border=\"1\" class=\"dataframe\">\n",
       "  <thead>\n",
       "    <tr style=\"text-align: right;\">\n",
       "      <th></th>\n",
       "      <th>is_canceled</th>\n",
       "      <th>lead_time</th>\n",
       "      <th>arrival_date_year</th>\n",
       "      <th>arrival_date_week_number</th>\n",
       "      <th>arrival_date_day_of_month</th>\n",
       "      <th>stays_in_weekend_nights</th>\n",
       "      <th>stays_in_week_nights</th>\n",
       "      <th>adults</th>\n",
       "      <th>children</th>\n",
       "      <th>babies</th>\n",
       "      <th>is_repeated_guest</th>\n",
       "      <th>previous_cancellations</th>\n",
       "      <th>previous_bookings_not_canceled</th>\n",
       "      <th>booking_changes</th>\n",
       "      <th>agent</th>\n",
       "      <th>company</th>\n",
       "      <th>days_in_waiting_list</th>\n",
       "      <th>adr</th>\n",
       "      <th>required_car_parking_spaces</th>\n",
       "      <th>total_of_special_requests</th>\n",
       "    </tr>\n",
       "  </thead>\n",
       "  <tbody>\n",
       "    <tr>\n",
       "      <th>count</th>\n",
       "      <td>119390.000000</td>\n",
       "      <td>119390.000000</td>\n",
       "      <td>119390.000000</td>\n",
       "      <td>119390.000000</td>\n",
       "      <td>119390.000000</td>\n",
       "      <td>119390.000000</td>\n",
       "      <td>119390.000000</td>\n",
       "      <td>119390.000000</td>\n",
       "      <td>119386.000000</td>\n",
       "      <td>119390.000000</td>\n",
       "      <td>119390.000000</td>\n",
       "      <td>119390.000000</td>\n",
       "      <td>119390.000000</td>\n",
       "      <td>119390.000000</td>\n",
       "      <td>103050.000000</td>\n",
       "      <td>6797.000000</td>\n",
       "      <td>119390.000000</td>\n",
       "      <td>119390.000000</td>\n",
       "      <td>119390.000000</td>\n",
       "      <td>119390.000000</td>\n",
       "    </tr>\n",
       "    <tr>\n",
       "      <th>mean</th>\n",
       "      <td>0.370416</td>\n",
       "      <td>104.011416</td>\n",
       "      <td>2016.156554</td>\n",
       "      <td>27.165173</td>\n",
       "      <td>15.798241</td>\n",
       "      <td>0.927599</td>\n",
       "      <td>2.500302</td>\n",
       "      <td>1.856403</td>\n",
       "      <td>0.103890</td>\n",
       "      <td>0.007949</td>\n",
       "      <td>0.031912</td>\n",
       "      <td>0.087118</td>\n",
       "      <td>0.137097</td>\n",
       "      <td>0.221124</td>\n",
       "      <td>86.693382</td>\n",
       "      <td>189.266735</td>\n",
       "      <td>2.321149</td>\n",
       "      <td>101.831122</td>\n",
       "      <td>0.062518</td>\n",
       "      <td>0.571363</td>\n",
       "    </tr>\n",
       "    <tr>\n",
       "      <th>std</th>\n",
       "      <td>0.482918</td>\n",
       "      <td>106.863097</td>\n",
       "      <td>0.707476</td>\n",
       "      <td>13.605138</td>\n",
       "      <td>8.780829</td>\n",
       "      <td>0.998613</td>\n",
       "      <td>1.908286</td>\n",
       "      <td>0.579261</td>\n",
       "      <td>0.398561</td>\n",
       "      <td>0.097436</td>\n",
       "      <td>0.175767</td>\n",
       "      <td>0.844336</td>\n",
       "      <td>1.497437</td>\n",
       "      <td>0.652306</td>\n",
       "      <td>110.774548</td>\n",
       "      <td>131.655015</td>\n",
       "      <td>17.594721</td>\n",
       "      <td>50.535790</td>\n",
       "      <td>0.245291</td>\n",
       "      <td>0.792798</td>\n",
       "    </tr>\n",
       "    <tr>\n",
       "      <th>min</th>\n",
       "      <td>0.000000</td>\n",
       "      <td>0.000000</td>\n",
       "      <td>2015.000000</td>\n",
       "      <td>1.000000</td>\n",
       "      <td>1.000000</td>\n",
       "      <td>0.000000</td>\n",
       "      <td>0.000000</td>\n",
       "      <td>0.000000</td>\n",
       "      <td>0.000000</td>\n",
       "      <td>0.000000</td>\n",
       "      <td>0.000000</td>\n",
       "      <td>0.000000</td>\n",
       "      <td>0.000000</td>\n",
       "      <td>0.000000</td>\n",
       "      <td>1.000000</td>\n",
       "      <td>6.000000</td>\n",
       "      <td>0.000000</td>\n",
       "      <td>-6.380000</td>\n",
       "      <td>0.000000</td>\n",
       "      <td>0.000000</td>\n",
       "    </tr>\n",
       "    <tr>\n",
       "      <th>25%</th>\n",
       "      <td>0.000000</td>\n",
       "      <td>18.000000</td>\n",
       "      <td>2016.000000</td>\n",
       "      <td>16.000000</td>\n",
       "      <td>8.000000</td>\n",
       "      <td>0.000000</td>\n",
       "      <td>1.000000</td>\n",
       "      <td>2.000000</td>\n",
       "      <td>0.000000</td>\n",
       "      <td>0.000000</td>\n",
       "      <td>0.000000</td>\n",
       "      <td>0.000000</td>\n",
       "      <td>0.000000</td>\n",
       "      <td>0.000000</td>\n",
       "      <td>9.000000</td>\n",
       "      <td>62.000000</td>\n",
       "      <td>0.000000</td>\n",
       "      <td>69.290000</td>\n",
       "      <td>0.000000</td>\n",
       "      <td>0.000000</td>\n",
       "    </tr>\n",
       "    <tr>\n",
       "      <th>50%</th>\n",
       "      <td>0.000000</td>\n",
       "      <td>69.000000</td>\n",
       "      <td>2016.000000</td>\n",
       "      <td>28.000000</td>\n",
       "      <td>16.000000</td>\n",
       "      <td>1.000000</td>\n",
       "      <td>2.000000</td>\n",
       "      <td>2.000000</td>\n",
       "      <td>0.000000</td>\n",
       "      <td>0.000000</td>\n",
       "      <td>0.000000</td>\n",
       "      <td>0.000000</td>\n",
       "      <td>0.000000</td>\n",
       "      <td>0.000000</td>\n",
       "      <td>14.000000</td>\n",
       "      <td>179.000000</td>\n",
       "      <td>0.000000</td>\n",
       "      <td>94.575000</td>\n",
       "      <td>0.000000</td>\n",
       "      <td>0.000000</td>\n",
       "    </tr>\n",
       "    <tr>\n",
       "      <th>75%</th>\n",
       "      <td>1.000000</td>\n",
       "      <td>160.000000</td>\n",
       "      <td>2017.000000</td>\n",
       "      <td>38.000000</td>\n",
       "      <td>23.000000</td>\n",
       "      <td>2.000000</td>\n",
       "      <td>3.000000</td>\n",
       "      <td>2.000000</td>\n",
       "      <td>0.000000</td>\n",
       "      <td>0.000000</td>\n",
       "      <td>0.000000</td>\n",
       "      <td>0.000000</td>\n",
       "      <td>0.000000</td>\n",
       "      <td>0.000000</td>\n",
       "      <td>229.000000</td>\n",
       "      <td>270.000000</td>\n",
       "      <td>0.000000</td>\n",
       "      <td>126.000000</td>\n",
       "      <td>0.000000</td>\n",
       "      <td>1.000000</td>\n",
       "    </tr>\n",
       "    <tr>\n",
       "      <th>max</th>\n",
       "      <td>1.000000</td>\n",
       "      <td>737.000000</td>\n",
       "      <td>2017.000000</td>\n",
       "      <td>53.000000</td>\n",
       "      <td>31.000000</td>\n",
       "      <td>19.000000</td>\n",
       "      <td>50.000000</td>\n",
       "      <td>55.000000</td>\n",
       "      <td>10.000000</td>\n",
       "      <td>10.000000</td>\n",
       "      <td>1.000000</td>\n",
       "      <td>26.000000</td>\n",
       "      <td>72.000000</td>\n",
       "      <td>21.000000</td>\n",
       "      <td>535.000000</td>\n",
       "      <td>543.000000</td>\n",
       "      <td>391.000000</td>\n",
       "      <td>5400.000000</td>\n",
       "      <td>8.000000</td>\n",
       "      <td>5.000000</td>\n",
       "    </tr>\n",
       "  </tbody>\n",
       "</table>\n",
       "</div>"
      ],
      "text/plain": [
       "         is_canceled      lead_time  arrival_date_year  \\\n",
       "count  119390.000000  119390.000000      119390.000000   \n",
       "mean        0.370416     104.011416        2016.156554   \n",
       "std         0.482918     106.863097           0.707476   \n",
       "min         0.000000       0.000000        2015.000000   \n",
       "25%         0.000000      18.000000        2016.000000   \n",
       "50%         0.000000      69.000000        2016.000000   \n",
       "75%         1.000000     160.000000        2017.000000   \n",
       "max         1.000000     737.000000        2017.000000   \n",
       "\n",
       "       arrival_date_week_number  arrival_date_day_of_month  \\\n",
       "count             119390.000000              119390.000000   \n",
       "mean                  27.165173                  15.798241   \n",
       "std                   13.605138                   8.780829   \n",
       "min                    1.000000                   1.000000   \n",
       "25%                   16.000000                   8.000000   \n",
       "50%                   28.000000                  16.000000   \n",
       "75%                   38.000000                  23.000000   \n",
       "max                   53.000000                  31.000000   \n",
       "\n",
       "       stays_in_weekend_nights  stays_in_week_nights         adults  \\\n",
       "count            119390.000000         119390.000000  119390.000000   \n",
       "mean                  0.927599              2.500302       1.856403   \n",
       "std                   0.998613              1.908286       0.579261   \n",
       "min                   0.000000              0.000000       0.000000   \n",
       "25%                   0.000000              1.000000       2.000000   \n",
       "50%                   1.000000              2.000000       2.000000   \n",
       "75%                   2.000000              3.000000       2.000000   \n",
       "max                  19.000000             50.000000      55.000000   \n",
       "\n",
       "            children         babies  is_repeated_guest  \\\n",
       "count  119386.000000  119390.000000      119390.000000   \n",
       "mean        0.103890       0.007949           0.031912   \n",
       "std         0.398561       0.097436           0.175767   \n",
       "min         0.000000       0.000000           0.000000   \n",
       "25%         0.000000       0.000000           0.000000   \n",
       "50%         0.000000       0.000000           0.000000   \n",
       "75%         0.000000       0.000000           0.000000   \n",
       "max        10.000000      10.000000           1.000000   \n",
       "\n",
       "       previous_cancellations  previous_bookings_not_canceled  \\\n",
       "count           119390.000000                   119390.000000   \n",
       "mean                 0.087118                        0.137097   \n",
       "std                  0.844336                        1.497437   \n",
       "min                  0.000000                        0.000000   \n",
       "25%                  0.000000                        0.000000   \n",
       "50%                  0.000000                        0.000000   \n",
       "75%                  0.000000                        0.000000   \n",
       "max                 26.000000                       72.000000   \n",
       "\n",
       "       booking_changes          agent      company  days_in_waiting_list  \\\n",
       "count    119390.000000  103050.000000  6797.000000         119390.000000   \n",
       "mean          0.221124      86.693382   189.266735              2.321149   \n",
       "std           0.652306     110.774548   131.655015             17.594721   \n",
       "min           0.000000       1.000000     6.000000              0.000000   \n",
       "25%           0.000000       9.000000    62.000000              0.000000   \n",
       "50%           0.000000      14.000000   179.000000              0.000000   \n",
       "75%           0.000000     229.000000   270.000000              0.000000   \n",
       "max          21.000000     535.000000   543.000000            391.000000   \n",
       "\n",
       "                 adr  required_car_parking_spaces  total_of_special_requests  \n",
       "count  119390.000000                119390.000000              119390.000000  \n",
       "mean      101.831122                     0.062518                   0.571363  \n",
       "std        50.535790                     0.245291                   0.792798  \n",
       "min        -6.380000                     0.000000                   0.000000  \n",
       "25%        69.290000                     0.000000                   0.000000  \n",
       "50%        94.575000                     0.000000                   0.000000  \n",
       "75%       126.000000                     0.000000                   1.000000  \n",
       "max      5400.000000                     8.000000                   5.000000  "
      ]
     },
     "execution_count": 4,
     "metadata": {},
     "output_type": "execute_result"
    }
   ],
   "source": [
    "data.describe() "
   ]
  },
  {
   "cell_type": "markdown",
   "id": "6014eb7a",
   "metadata": {},
   "source": [
    "**information about the dataset**"
   ]
  },
  {
   "cell_type": "code",
   "execution_count": 5,
   "id": "0c0d288c",
   "metadata": {},
   "outputs": [
    {
     "name": "stdout",
     "output_type": "stream",
     "text": [
      "<class 'pandas.core.frame.DataFrame'>\n",
      "RangeIndex: 119390 entries, 0 to 119389\n",
      "Data columns (total 32 columns):\n",
      " #   Column                          Non-Null Count   Dtype  \n",
      "---  ------                          --------------   -----  \n",
      " 0   hotel                           119390 non-null  object \n",
      " 1   is_canceled                     119390 non-null  int64  \n",
      " 2   lead_time                       119390 non-null  int64  \n",
      " 3   arrival_date_year               119390 non-null  int64  \n",
      " 4   arrival_date_month              119390 non-null  object \n",
      " 5   arrival_date_week_number        119390 non-null  int64  \n",
      " 6   arrival_date_day_of_month       119390 non-null  int64  \n",
      " 7   stays_in_weekend_nights         119390 non-null  int64  \n",
      " 8   stays_in_week_nights            119390 non-null  int64  \n",
      " 9   adults                          119390 non-null  int64  \n",
      " 10  children                        119386 non-null  float64\n",
      " 11  babies                          119390 non-null  int64  \n",
      " 12  meal                            119390 non-null  object \n",
      " 13  country                         118902 non-null  object \n",
      " 14  market_segment                  119390 non-null  object \n",
      " 15  distribution_channel            119390 non-null  object \n",
      " 16  is_repeated_guest               119390 non-null  int64  \n",
      " 17  previous_cancellations          119390 non-null  int64  \n",
      " 18  previous_bookings_not_canceled  119390 non-null  int64  \n",
      " 19  reserved_room_type              119390 non-null  object \n",
      " 20  assigned_room_type              119390 non-null  object \n",
      " 21  booking_changes                 119390 non-null  int64  \n",
      " 22  deposit_type                    119390 non-null  object \n",
      " 23  agent                           103050 non-null  float64\n",
      " 24  company                         6797 non-null    float64\n",
      " 25  days_in_waiting_list            119390 non-null  int64  \n",
      " 26  customer_type                   119390 non-null  object \n",
      " 27  adr                             119390 non-null  float64\n",
      " 28  required_car_parking_spaces     119390 non-null  int64  \n",
      " 29  total_of_special_requests       119390 non-null  int64  \n",
      " 30  reservation_status              119390 non-null  object \n",
      " 31  reservation_status_date         119390 non-null  object \n",
      "dtypes: float64(4), int64(16), object(12)\n",
      "memory usage: 29.1+ MB\n"
     ]
    }
   ],
   "source": [
    "data.info()"
   ]
  },
  {
   "cell_type": "code",
   "execution_count": 6,
   "id": "b8e365f8",
   "metadata": {},
   "outputs": [
    {
     "data": {
      "text/plain": [
       "(119390, 32)"
      ]
     },
     "execution_count": 6,
     "metadata": {},
     "output_type": "execute_result"
    }
   ],
   "source": [
    "data.shape "
   ]
  },
  {
   "cell_type": "markdown",
   "id": "a65f56c4",
   "metadata": {},
   "source": [
    "**Checking Null Values**"
   ]
  },
  {
   "cell_type": "code",
   "execution_count": 7,
   "id": "200ccdea",
   "metadata": {
    "scrolled": false
   },
   "outputs": [
    {
     "data": {
      "text/plain": [
       "hotel                                  0\n",
       "is_canceled                            0\n",
       "lead_time                              0\n",
       "arrival_date_year                      0\n",
       "arrival_date_month                     0\n",
       "arrival_date_week_number               0\n",
       "arrival_date_day_of_month              0\n",
       "stays_in_weekend_nights                0\n",
       "stays_in_week_nights                   0\n",
       "adults                                 0\n",
       "children                               4\n",
       "babies                                 0\n",
       "meal                                   0\n",
       "country                              488\n",
       "market_segment                         0\n",
       "distribution_channel                   0\n",
       "is_repeated_guest                      0\n",
       "previous_cancellations                 0\n",
       "previous_bookings_not_canceled         0\n",
       "reserved_room_type                     0\n",
       "assigned_room_type                     0\n",
       "booking_changes                        0\n",
       "deposit_type                           0\n",
       "agent                              16340\n",
       "company                           112593\n",
       "days_in_waiting_list                   0\n",
       "customer_type                          0\n",
       "adr                                    0\n",
       "required_car_parking_spaces            0\n",
       "total_of_special_requests              0\n",
       "reservation_status                     0\n",
       "reservation_status_date                0\n",
       "dtype: int64"
      ]
     },
     "execution_count": 7,
     "metadata": {},
     "output_type": "execute_result"
    }
   ],
   "source": [
    "data.isnull().sum()"
   ]
  },
  {
   "cell_type": "markdown",
   "id": "9c3b3fe1",
   "metadata": {},
   "source": [
    "**missing values percentages caluculation**"
   ]
  },
  {
   "cell_type": "code",
   "execution_count": 8,
   "id": "3f7b10e2",
   "metadata": {},
   "outputs": [
    {
     "name": "stdout",
     "output_type": "stream",
     "text": [
      "hotel                              0.000000\n",
      "is_canceled                        0.000000\n",
      "lead_time                          0.000000\n",
      "arrival_date_year                  0.000000\n",
      "arrival_date_month                 0.000000\n",
      "arrival_date_week_number           0.000000\n",
      "arrival_date_day_of_month          0.000000\n",
      "stays_in_weekend_nights            0.000000\n",
      "stays_in_week_nights               0.000000\n",
      "adults                             0.000000\n",
      "children                           0.003350\n",
      "babies                             0.000000\n",
      "meal                               0.000000\n",
      "country                            0.408744\n",
      "market_segment                     0.000000\n",
      "distribution_channel               0.000000\n",
      "is_repeated_guest                  0.000000\n",
      "previous_cancellations             0.000000\n",
      "previous_bookings_not_canceled     0.000000\n",
      "reserved_room_type                 0.000000\n",
      "assigned_room_type                 0.000000\n",
      "booking_changes                    0.000000\n",
      "deposit_type                       0.000000\n",
      "agent                             13.686238\n",
      "company                           94.306893\n",
      "days_in_waiting_list               0.000000\n",
      "customer_type                      0.000000\n",
      "adr                                0.000000\n",
      "required_car_parking_spaces        0.000000\n",
      "total_of_special_requests          0.000000\n",
      "reservation_status                 0.000000\n",
      "reservation_status_date            0.000000\n",
      "dtype: float64\n"
     ]
    }
   ],
   "source": [
    "missing_percentages = (data.isnull().sum() / len(data)) * 100\n",
    "print(missing_percentages)"
   ]
  },
  {
   "cell_type": "markdown",
   "id": "3e4e999b",
   "metadata": {},
   "source": [
    "**Visualize missing values using a heatmap**"
   ]
  },
  {
   "cell_type": "code",
   "execution_count": 9,
   "id": "8a37f580",
   "metadata": {},
   "outputs": [
    {
     "data": {
      "image/png": "[encoded data removed]",
      "text/plain": [
       "<Figure size 864x576 with 1 Axes>"
      ]
     },
     "metadata": {
      "needs_background": "light"
     },
     "output_type": "display_data"
    }
   ],
   "source": [
    "plt.figure(figsize=(12, 8))\n",
    "sns.heatmap(data.isnull(), cbar=False, cmap='viridis')\n",
    "plt.title(\"Missing Values in the Dataset\")\n",
    "plt.show()"
   ]
  },
  {
   "cell_type": "markdown",
   "id": "f7561566",
   "metadata": {},
   "source": [
    "**handling missing values**"
   ]
  },
  {
   "cell_type": "code",
   "execution_count": 10,
   "id": "d3e166ea",
   "metadata": {},
   "outputs": [],
   "source": [
    "data['children'] = data['children'].fillna(0)\n",
    "data['agent'] = data['agent'].fillna(0)\n",
    "data['country'] = data['country'].fillna(data['country'].mode()[0])\n",
    "data.drop('company', axis=1, inplace=True)"
   ]
  },
  {
   "cell_type": "markdown",
   "id": "b3cedc8f",
   "metadata": {},
   "source": [
    "**confirming no missing values**"
   ]
  },
  {
   "cell_type": "code",
   "execution_count": 11,
   "id": "4d94e3f5",
   "metadata": {
    "scrolled": true
   },
   "outputs": [
    {
     "name": "stdout",
     "output_type": "stream",
     "text": [
      "Null Values After Cleaning:\n",
      "hotel                             0\n",
      "is_canceled                       0\n",
      "lead_time                         0\n",
      "arrival_date_year                 0\n",
      "arrival_date_month                0\n",
      "arrival_date_week_number          0\n",
      "arrival_date_day_of_month         0\n",
      "stays_in_weekend_nights           0\n",
      "stays_in_week_nights              0\n",
      "adults                            0\n",
      "children                          0\n",
      "babies                            0\n",
      "meal                              0\n",
      "country                           0\n",
      "market_segment                    0\n",
      "distribution_channel              0\n",
      "is_repeated_guest                 0\n",
      "previous_cancellations            0\n",
      "previous_bookings_not_canceled    0\n",
      "reserved_room_type                0\n",
      "assigned_room_type                0\n",
      "booking_changes                   0\n",
      "deposit_type                      0\n",
      "agent                             0\n",
      "days_in_waiting_list              0\n",
      "customer_type                     0\n",
      "adr                               0\n",
      "required_car_parking_spaces       0\n",
      "total_of_special_requests         0\n",
      "reservation_status                0\n",
      "reservation_status_date           0\n",
      "dtype: int64\n"
     ]
    }
   ],
   "source": [
    "print(\"Null Values After Cleaning:\")\n",
    "print(data.isnull().sum())"
   ]
  },
  {
   "cell_type": "markdown",
   "id": "1d9f85a0",
   "metadata": {},
   "source": [
    "**remove duplicates**"
   ]
  },
  {
   "cell_type": "code",
   "execution_count": 13,
   "id": "cf940f35",
   "metadata": {},
   "outputs": [],
   "source": [
    "data['agent']= data['agent'].astype(int)\n",
    "data['country']= data['country'].astype(str)\n",
    "# Remove duplicate rows\n",
    "data = data.drop_duplicates()"
   ]
  },
  {
   "cell_type": "code",
   "execution_count": 14,
   "id": "0aff2f25",
   "metadata": {},
   "outputs": [
    {
     "data": {
      "text/plain": [
       "(87370, 31)"
      ]
     },
     "execution_count": 14,
     "metadata": {},
     "output_type": "execute_result"
    }
   ],
   "source": [
    "data.shape "
   ]
  },
  {
   "cell_type": "markdown",
   "id": "c3174de2",
   "metadata": {},
   "source": [
    "**data types**"
   ]
  },
  {
   "cell_type": "code",
   "execution_count": 15,
   "id": "8587ef23",
   "metadata": {},
   "outputs": [
    {
     "data": {
      "text/plain": [
       "hotel                              object\n",
       "is_canceled                         int64\n",
       "lead_time                           int64\n",
       "arrival_date_year                   int64\n",
       "arrival_date_month                 object\n",
       "arrival_date_week_number            int64\n",
       "arrival_date_day_of_month           int64\n",
       "stays_in_weekend_nights             int64\n",
       "stays_in_week_nights                int64\n",
       "adults                              int64\n",
       "children                          float64\n",
       "babies                              int64\n",
       "meal                               object\n",
       "country                            object\n",
       "market_segment                     object\n",
       "distribution_channel               object\n",
       "is_repeated_guest                   int64\n",
       "previous_cancellations              int64\n",
       "previous_bookings_not_canceled      int64\n",
       "reserved_room_type                 object\n",
       "assigned_room_type                 object\n",
       "booking_changes                     int64\n",
       "deposit_type                       object\n",
       "agent                               int64\n",
       "days_in_waiting_list                int64\n",
       "customer_type                      object\n",
       "adr                               float64\n",
       "required_car_parking_spaces         int64\n",
       "total_of_special_requests           int64\n",
       "reservation_status                 object\n",
       "reservation_status_date            object\n",
       "dtype: object"
      ]
     },
     "execution_count": 15,
     "metadata": {},
     "output_type": "execute_result"
    }
   ],
   "source": [
    "data.dtypes"
   ]
  },
  {
   "cell_type": "code",
   "execution_count": 17,
   "id": "41c165b2",
   "metadata": {},
   "outputs": [
    {
     "name": "stdout",
     "output_type": "stream",
     "text": [
      "Index(['hotel', 'arrival_date_month', 'meal', 'country', 'market_segment',\n",
      "       'distribution_channel', 'reserved_room_type', 'assigned_room_type',\n",
      "       'deposit_type', 'customer_type', 'reservation_status',\n",
      "       'reservation_status_date'],\n",
      "      dtype='object')\n"
     ]
    }
   ],
   "source": [
    "categorical_features = data.select_dtypes(include=['object']).columns\n",
    "print(categorical_features)"
   ]
  },
  {
   "cell_type": "code",
   "execution_count": 18,
   "id": "fac0793a",
   "metadata": {},
   "outputs": [],
   "source": [
    "# Initialize LabelEncoder\n",
    "label_encoder = LabelEncoder()\n",
    "\n",
    "# Encode each categorical feature\n",
    "for col in categorical_features:\n",
    "    data[col] = label_encoder.fit_transform(data[col])"
   ]
  },
  {
   "cell_type": "code",
   "execution_count": 19,
   "id": "90368f2d",
   "metadata": {},
   "outputs": [],
   "source": [
    "cat_data = data[[x for x in categorical_features]]"
   ]
  },
  {
   "cell_type": "code",
   "execution_count": 20,
   "id": "b974b1d3",
   "metadata": {},
   "outputs": [
    {
     "name": "stdout",
     "output_type": "stream",
     "text": [
      "<class 'pandas.core.frame.DataFrame'>\n",
      "Int64Index: 87370 entries, 0 to 119389\n",
      "Data columns (total 12 columns):\n",
      " #   Column                   Non-Null Count  Dtype\n",
      "---  ------                   --------------  -----\n",
      " 0   hotel                    87370 non-null  int64\n",
      " 1   arrival_date_month       87370 non-null  int64\n",
      " 2   meal                     87370 non-null  int64\n",
      " 3   country                  87370 non-null  int64\n",
      " 4   market_segment           87370 non-null  int64\n",
      " 5   distribution_channel     87370 non-null  int64\n",
      " 6   reserved_room_type       87370 non-null  int64\n",
      " 7   assigned_room_type       87370 non-null  int64\n",
      " 8   deposit_type             87370 non-null  int64\n",
      " 9   customer_type            87370 non-null  int64\n",
      " 10  reservation_status       87370 non-null  int64\n",
      " 11  reservation_status_date  87370 non-null  int64\n",
      "dtypes: int64(12)\n",
      "memory usage: 8.7 MB\n"
     ]
    }
   ],
   "source": [
    "cat_data.info()"
   ]
  },
  {
   "cell_type": "markdown",
   "id": "9fd1ff2e",
   "metadata": {},
   "source": [
    "**correct the wrong data types**"
   ]
  },
  {
   "cell_type": "code",
   "execution_count": 297,
   "id": "f9715dbb",
   "metadata": {},
   "outputs": [],
   "source": [
    "# data['children'] = data['children'].astype(int)  # Convert 'children' to int\n",
    "data['agent'] = data['agent'].astype(int)  # Convert 'agent' to int"
   ]
  },
  {
   "cell_type": "markdown",
   "id": "aeba5daa",
   "metadata": {},
   "source": [
    "**confirming the datatypes**"
   ]
  },
  {
   "cell_type": "code",
   "execution_count": 298,
   "id": "8098b209",
   "metadata": {},
   "outputs": [
    {
     "name": "stdout",
     "output_type": "stream",
     "text": [
      "int64\n",
      "int64\n"
     ]
    }
   ],
   "source": [
    "# print(data['children'].dtype)\n",
    "print(data['agent'].dtype)"
   ]
  },
  {
   "cell_type": "markdown",
   "id": "3299bb9b",
   "metadata": {},
   "source": [
    "**data columns**"
   ]
  },
  {
   "cell_type": "code",
   "execution_count": 299,
   "id": "3eaffc89",
   "metadata": {},
   "outputs": [
    {
     "data": {
      "text/plain": [
       "Index(['hotel', 'is_canceled', 'lead_time', 'arrival_date_month',\n",
       "       'arrival_date_week_number', 'arrival_date_day_of_month',\n",
       "       'stays_in_weekend_nights', 'stays_in_week_nights', 'adults', 'children',\n",
       "       'babies', 'meal', 'country', 'market_segment', 'distribution_channel',\n",
       "       'is_repeated_guest', 'previous_cancellations',\n",
       "       'previous_bookings_not_canceled', 'reserved_room_type',\n",
       "       'assigned_room_type', 'booking_changes', 'deposit_type', 'agent',\n",
       "       'days_in_waiting_list', 'customer_type', 'adr',\n",
       "       'required_car_parking_spaces', 'total_of_special_requests',\n",
       "       'reservation_status'],\n",
       "      dtype='object')"
      ]
     },
     "execution_count": 299,
     "metadata": {},
     "output_type": "execute_result"
    }
   ],
   "source": [
    "data.columns"
   ]
  },
  {
   "cell_type": "markdown",
   "id": "f60112a3",
   "metadata": {},
   "source": [
    "**dataset analysis**"
   ]
  },
  {
   "cell_type": "markdown",
   "id": "c1851c4d",
   "metadata": {},
   "source": [
    "**histogram**"
   ]
  },
  {
   "cell_type": "code",
   "execution_count": 300,
   "id": "1509f76b",
   "metadata": {},
   "outputs": [
    {
     "data": {
      "image/png": "[encoded data removed]",
      "text/plain": [
       "<Figure size 1440x1008 with 20 Axes>"
      ]
     },
     "metadata": {
      "needs_background": "light"
     },
     "output_type": "display_data"
    }
   ],
   "source": [
    "data.hist(figsize=(20,14))\n",
    "plt.show()"
   ]
  },
  {
   "cell_type": "markdown",
   "id": "d089a545",
   "metadata": {},
   "source": [
    "**Correlation Heatmap**"
   ]
  },
  {
   "cell_type": "code",
   "execution_count": 301,
   "id": "1baaab88",
   "metadata": {},
   "outputs": [
    {
     "data": {
      "image/png": "[encoded data removed]",
      "text/plain": [
       "<Figure size 936x576 with 2 Axes>"
      ]
     },
     "metadata": {
      "needs_background": "light"
     },
     "output_type": "display_data"
    }
   ],
   "source": [
    "# Increase figure size\n",
    "plt.figure(figsize=(13, 8))  # Adjust the width and height as needed\n",
    "\n",
    "# Create the heatmap with annotation and customization\n",
    "sns.heatmap(data.corr(), annot=True, cmap='viridis', linewidths=0.5, fmt=\".2f\", annot_kws={\"size\": 10})\n",
    "\n",
    "# Add title for context\n",
    "plt.title('Correlation Heatmap of Features', fontsize=18)\n",
    "\n",
    "# Show the plot\n",
    "plt.show()"
   ]
  },
  {
   "cell_type": "code",
   "execution_count": 302,
   "id": "1bc5d16e",
   "metadata": {},
   "outputs": [],
   "source": [
    "list_1 = list(data.columns)\n"
   ]
  },
  {
   "cell_type": "code",
   "execution_count": 303,
   "id": "f51361a4",
   "metadata": {},
   "outputs": [
    {
     "name": "stdout",
     "output_type": "stream",
     "text": [
      "Column: hotel\n",
      "['Resort Hotel' 'Resort Hotel' 'Resort Hotel' ... 'City Hotel'\n",
      " 'City Hotel' 'City Hotel']\n",
      "--------------------------------------------------\n",
      "Column: is_canceled\n",
      "[0 0 0 ... 0 0 0]\n",
      "--------------------------------------------------\n",
      "Column: lead_time\n",
      "[342 737   7 ...  34 109 205]\n",
      "--------------------------------------------------\n",
      "Column: arrival_date_month\n",
      "['July' 'July' 'July' ... 'August' 'August' 'August']\n",
      "--------------------------------------------------\n",
      "Column: arrival_date_week_number\n",
      "[27 27 27 ... 35 35 35]\n",
      "--------------------------------------------------\n",
      "Column: arrival_date_day_of_month\n",
      "[ 1  1  1 ... 31 31 29]\n",
      "--------------------------------------------------\n",
      "Column: stays_in_weekend_nights\n",
      "[0 0 0 ... 2 2 2]\n",
      "--------------------------------------------------\n",
      "Column: stays_in_week_nights\n",
      "[0 0 1 ... 5 5 7]\n",
      "--------------------------------------------------\n",
      "Column: adults\n",
      "[2 2 1 ... 2 2 2]\n",
      "--------------------------------------------------\n",
      "Column: children\n",
      "[0 0 0 ... 0 0 0]\n",
      "--------------------------------------------------\n",
      "Column: babies\n",
      "[0 0 0 ... 0 0 0]\n",
      "--------------------------------------------------\n",
      "Column: meal\n",
      "['BB' 'BB' 'BB' ... 'BB' 'BB' 'HB']\n",
      "--------------------------------------------------\n",
      "Column: country\n",
      "['PRT' 'PRT' 'GBR' ... 'DEU' 'GBR' 'DEU']\n",
      "--------------------------------------------------\n",
      "Column: market_segment\n",
      "['Direct' 'Direct' 'Direct' ... 'Online TA' 'Online TA' 'Online TA']\n",
      "--------------------------------------------------\n",
      "Column: distribution_channel\n",
      "['Direct' 'Direct' 'Direct' ... 'TA/TO' 'TA/TO' 'TA/TO']\n",
      "--------------------------------------------------\n",
      "Column: is_repeated_guest\n",
      "[0 0 0 ... 0 0 0]\n",
      "--------------------------------------------------\n",
      "Column: previous_cancellations\n",
      "[0 0 0 ... 0 0 0]\n",
      "--------------------------------------------------\n",
      "Column: previous_bookings_not_canceled\n",
      "[0 0 0 ... 0 0 0]\n",
      "--------------------------------------------------\n",
      "Column: reserved_room_type\n",
      "['C' 'C' 'A' ... 'D' 'A' 'A']\n",
      "--------------------------------------------------\n",
      "Column: assigned_room_type\n",
      "['C' 'C' 'C' ... 'D' 'A' 'A']\n",
      "--------------------------------------------------\n",
      "Column: booking_changes\n",
      "[3 4 0 ... 0 0 0]\n",
      "--------------------------------------------------\n",
      "Column: deposit_type\n",
      "['No Deposit' 'No Deposit' 'No Deposit' ... 'No Deposit' 'No Deposit'\n",
      " 'No Deposit']\n",
      "--------------------------------------------------\n",
      "Column: agent\n",
      "[ 0  0  0 ...  9 89  9]\n",
      "--------------------------------------------------\n",
      "Column: days_in_waiting_list\n",
      "[0 0 0 ... 0 0 0]\n",
      "--------------------------------------------------\n",
      "Column: customer_type\n",
      "['Transient' 'Transient' 'Transient' ... 'Transient' 'Transient'\n",
      " 'Transient']\n",
      "--------------------------------------------------\n",
      "Column: adr\n",
      "[  0.     0.    75.   ... 157.71 104.4  151.2 ]\n",
      "--------------------------------------------------\n",
      "Column: required_car_parking_spaces\n",
      "[0 0 0 ... 0 0 0]\n",
      "--------------------------------------------------\n",
      "Column: total_of_special_requests\n",
      "[0 0 0 ... 4 0 2]\n",
      "--------------------------------------------------\n",
      "Column: reservation_status\n",
      "['Check-Out' 'Check-Out' 'Check-Out' ... 'Check-Out' 'Check-Out'\n",
      " 'Check-Out']\n",
      "--------------------------------------------------\n"
     ]
    }
   ],
   "source": [
    "# Step 2: Print each column name and its values\n",
    "for col in list_1:\n",
    "    print(f\"Column: {col}\")\n",
    "    print(data[col].values)\n",
    "    print(\"-\" * 50)"
   ]
  },
  {
   "cell_type": "markdown",
   "id": "a91fbc5d",
   "metadata": {},
   "source": [
    "**Scaling data**"
   ]
  },
  {
   "cell_type": "code",
   "execution_count": 304,
   "id": "0984d174",
   "metadata": {},
   "outputs": [],
   "source": [
    "# Separate the target variable\n",
    "y = data['is_canceled']\n",
    "x = data.drop('is_canceled', axis=1)\n",
    "\n"
   ]
  },
  {
   "cell_type": "code",
   "execution_count": 305,
   "id": "b0d3456a",
   "metadata": {},
   "outputs": [],
   "source": [
    "# Step 1: Identify categorical columns\n",
    "categorical_features = x.select_dtypes(include=['object']).columns\n"
   ]
  },
  {
   "cell_type": "code",
   "execution_count": 306,
   "id": "e6805269",
   "metadata": {},
   "outputs": [],
   "source": [
    "x = pd.get_dummies(x, columns=categorical_features, drop_first=True)"
   ]
  },
  {
   "cell_type": "code",
   "execution_count": 307,
   "id": "bdb388cb",
   "metadata": {},
   "outputs": [],
   "source": [
    "# Step 3: Identify numerical columns\n",
    "numerical_features = x.select_dtypes(include=['float64', 'int64']).columns"
   ]
  },
  {
   "cell_type": "code",
   "execution_count": 308,
   "id": "3c72af50",
   "metadata": {},
   "outputs": [],
   "source": [
    "# Step 4: Apply Standard Scaling to numerical columns\n",
    "scaler = StandardScaler()\n",
    "x[numerical_features] = scaler.fit_transform(x[numerical_features])"
   ]
  },
  {
   "cell_type": "code",
   "execution_count": 309,
   "id": "25a7fab8",
   "metadata": {},
   "outputs": [],
   "source": [
    "# Step 5: Split the data into training and testing sets\n",
    "x_train, x_test, y_train, y_test = train_test_split(x, y, test_size=0.2, random_state=0)\n"
   ]
  },
  {
   "cell_type": "code",
   "execution_count": 310,
   "id": "7bf498ed",
   "metadata": {},
   "outputs": [
    {
     "name": "stdout",
     "output_type": "stream",
     "text": [
      "69699\n",
      "17425\n"
     ]
    },
    {
     "data": {
      "text/html": [
       "<div>\n",
       "<style scoped>\n",
       "    .dataframe tbody tr th:only-of-type {\n",
       "        vertical-align: middle;\n",
       "    }\n",
       "\n",
       "    .dataframe tbody tr th {\n",
       "        vertical-align: top;\n",
       "    }\n",
       "\n",
       "    .dataframe thead th {\n",
       "        text-align: right;\n",
       "    }\n",
       "</style>\n",
       "<table border=\"1\" class=\"dataframe\">\n",
       "  <thead>\n",
       "    <tr style=\"text-align: right;\">\n",
       "      <th></th>\n",
       "      <th>lead_time</th>\n",
       "      <th>arrival_date_week_number</th>\n",
       "      <th>arrival_date_day_of_month</th>\n",
       "      <th>stays_in_weekend_nights</th>\n",
       "      <th>stays_in_week_nights</th>\n",
       "      <th>adults</th>\n",
       "      <th>children</th>\n",
       "      <th>babies</th>\n",
       "      <th>is_repeated_guest</th>\n",
       "      <th>previous_cancellations</th>\n",
       "      <th>...</th>\n",
       "      <th>assigned_room_type_K</th>\n",
       "      <th>assigned_room_type_L</th>\n",
       "      <th>assigned_room_type_P</th>\n",
       "      <th>deposit_type_Non Refund</th>\n",
       "      <th>deposit_type_Refundable</th>\n",
       "      <th>customer_type_Group</th>\n",
       "      <th>customer_type_Transient</th>\n",
       "      <th>customer_type_Transient-Party</th>\n",
       "      <th>reservation_status_Check-Out</th>\n",
       "      <th>reservation_status_No-Show</th>\n",
       "    </tr>\n",
       "  </thead>\n",
       "  <tbody>\n",
       "    <tr>\n",
       "      <th>16296</th>\n",
       "      <td>0.747647</td>\n",
       "      <td>0.523850</td>\n",
       "      <td>0.020975</td>\n",
       "      <td>0.964102</td>\n",
       "      <td>1.157222</td>\n",
       "      <td>0.197958</td>\n",
       "      <td>-0.304386</td>\n",
       "      <td>-0.095438</td>\n",
       "      <td>-0.20195</td>\n",
       "      <td>-0.081851</td>\n",
       "      <td>...</td>\n",
       "      <td>0</td>\n",
       "      <td>0</td>\n",
       "      <td>0</td>\n",
       "      <td>0</td>\n",
       "      <td>0</td>\n",
       "      <td>0</td>\n",
       "      <td>1</td>\n",
       "      <td>0</td>\n",
       "      <td>1</td>\n",
       "      <td>0</td>\n",
       "    </tr>\n",
       "    <tr>\n",
       "      <th>88293</th>\n",
       "      <td>-0.264626</td>\n",
       "      <td>0.304447</td>\n",
       "      <td>-1.676859</td>\n",
       "      <td>-0.974695</td>\n",
       "      <td>-0.304960</td>\n",
       "      <td>-1.397502</td>\n",
       "      <td>-0.304386</td>\n",
       "      <td>-0.095438</td>\n",
       "      <td>4.95173</td>\n",
       "      <td>2.625499</td>\n",
       "      <td>...</td>\n",
       "      <td>0</td>\n",
       "      <td>0</td>\n",
       "      <td>0</td>\n",
       "      <td>0</td>\n",
       "      <td>0</td>\n",
       "      <td>0</td>\n",
       "      <td>1</td>\n",
       "      <td>0</td>\n",
       "      <td>1</td>\n",
       "      <td>0</td>\n",
       "    </tr>\n",
       "    <tr>\n",
       "      <th>44782</th>\n",
       "      <td>-0.136637</td>\n",
       "      <td>1.108926</td>\n",
       "      <td>-0.544970</td>\n",
       "      <td>0.964102</td>\n",
       "      <td>-0.304960</td>\n",
       "      <td>0.197958</td>\n",
       "      <td>-0.304386</td>\n",
       "      <td>-0.095438</td>\n",
       "      <td>-0.20195</td>\n",
       "      <td>-0.081851</td>\n",
       "      <td>...</td>\n",
       "      <td>0</td>\n",
       "      <td>0</td>\n",
       "      <td>0</td>\n",
       "      <td>0</td>\n",
       "      <td>0</td>\n",
       "      <td>0</td>\n",
       "      <td>0</td>\n",
       "      <td>1</td>\n",
       "      <td>0</td>\n",
       "      <td>0</td>\n",
       "    </tr>\n",
       "    <tr>\n",
       "      <th>62973</th>\n",
       "      <td>-0.125002</td>\n",
       "      <td>-1.670184</td>\n",
       "      <td>1.039675</td>\n",
       "      <td>-0.974695</td>\n",
       "      <td>-0.304960</td>\n",
       "      <td>0.197958</td>\n",
       "      <td>-0.304386</td>\n",
       "      <td>-0.095438</td>\n",
       "      <td>-0.20195</td>\n",
       "      <td>-0.081851</td>\n",
       "      <td>...</td>\n",
       "      <td>0</td>\n",
       "      <td>0</td>\n",
       "      <td>0</td>\n",
       "      <td>0</td>\n",
       "      <td>0</td>\n",
       "      <td>0</td>\n",
       "      <td>1</td>\n",
       "      <td>0</td>\n",
       "      <td>0</td>\n",
       "      <td>0</td>\n",
       "    </tr>\n",
       "    <tr>\n",
       "      <th>76991</th>\n",
       "      <td>-0.311167</td>\n",
       "      <td>0.596985</td>\n",
       "      <td>0.926487</td>\n",
       "      <td>-0.005296</td>\n",
       "      <td>-0.792353</td>\n",
       "      <td>-1.397502</td>\n",
       "      <td>-0.304386</td>\n",
       "      <td>-0.095438</td>\n",
       "      <td>-0.20195</td>\n",
       "      <td>-0.081851</td>\n",
       "      <td>...</td>\n",
       "      <td>0</td>\n",
       "      <td>0</td>\n",
       "      <td>0</td>\n",
       "      <td>0</td>\n",
       "      <td>0</td>\n",
       "      <td>0</td>\n",
       "      <td>0</td>\n",
       "      <td>1</td>\n",
       "      <td>1</td>\n",
       "      <td>0</td>\n",
       "    </tr>\n",
       "    <tr>\n",
       "      <th>...</th>\n",
       "      <td>...</td>\n",
       "      <td>...</td>\n",
       "      <td>...</td>\n",
       "      <td>...</td>\n",
       "      <td>...</td>\n",
       "      <td>...</td>\n",
       "      <td>...</td>\n",
       "      <td>...</td>\n",
       "      <td>...</td>\n",
       "      <td>...</td>\n",
       "      <td>...</td>\n",
       "      <td>...</td>\n",
       "      <td>...</td>\n",
       "      <td>...</td>\n",
       "      <td>...</td>\n",
       "      <td>...</td>\n",
       "      <td>...</td>\n",
       "      <td>...</td>\n",
       "      <td>...</td>\n",
       "      <td>...</td>\n",
       "      <td>...</td>\n",
       "    </tr>\n",
       "    <tr>\n",
       "      <th>26112</th>\n",
       "      <td>-0.927838</td>\n",
       "      <td>0.231312</td>\n",
       "      <td>0.586920</td>\n",
       "      <td>-0.974695</td>\n",
       "      <td>-0.792353</td>\n",
       "      <td>0.197958</td>\n",
       "      <td>-0.304386</td>\n",
       "      <td>-0.095438</td>\n",
       "      <td>-0.20195</td>\n",
       "      <td>-0.081851</td>\n",
       "      <td>...</td>\n",
       "      <td>0</td>\n",
       "      <td>0</td>\n",
       "      <td>0</td>\n",
       "      <td>0</td>\n",
       "      <td>0</td>\n",
       "      <td>0</td>\n",
       "      <td>1</td>\n",
       "      <td>0</td>\n",
       "      <td>1</td>\n",
       "      <td>0</td>\n",
       "    </tr>\n",
       "    <tr>\n",
       "      <th>62243</th>\n",
       "      <td>-0.823121</td>\n",
       "      <td>-1.889587</td>\n",
       "      <td>-1.224103</td>\n",
       "      <td>6.780493</td>\n",
       "      <td>9.442916</td>\n",
       "      <td>-1.397502</td>\n",
       "      <td>-0.304386</td>\n",
       "      <td>-0.095438</td>\n",
       "      <td>-0.20195</td>\n",
       "      <td>-0.081851</td>\n",
       "      <td>...</td>\n",
       "      <td>0</td>\n",
       "      <td>0</td>\n",
       "      <td>0</td>\n",
       "      <td>0</td>\n",
       "      <td>0</td>\n",
       "      <td>0</td>\n",
       "      <td>1</td>\n",
       "      <td>0</td>\n",
       "      <td>0</td>\n",
       "      <td>0</td>\n",
       "    </tr>\n",
       "    <tr>\n",
       "      <th>55922</th>\n",
       "      <td>0.433493</td>\n",
       "      <td>0.596985</td>\n",
       "      <td>0.926487</td>\n",
       "      <td>-0.005296</td>\n",
       "      <td>0.669828</td>\n",
       "      <td>0.197958</td>\n",
       "      <td>-0.304386</td>\n",
       "      <td>-0.095438</td>\n",
       "      <td>-0.20195</td>\n",
       "      <td>-0.081851</td>\n",
       "      <td>...</td>\n",
       "      <td>0</td>\n",
       "      <td>0</td>\n",
       "      <td>0</td>\n",
       "      <td>0</td>\n",
       "      <td>0</td>\n",
       "      <td>0</td>\n",
       "      <td>1</td>\n",
       "      <td>0</td>\n",
       "      <td>0</td>\n",
       "      <td>1</td>\n",
       "    </tr>\n",
       "    <tr>\n",
       "      <th>57680</th>\n",
       "      <td>1.189789</td>\n",
       "      <td>0.962657</td>\n",
       "      <td>1.605620</td>\n",
       "      <td>-0.974695</td>\n",
       "      <td>-0.304960</td>\n",
       "      <td>0.197958</td>\n",
       "      <td>-0.304386</td>\n",
       "      <td>-0.095438</td>\n",
       "      <td>-0.20195</td>\n",
       "      <td>-0.081851</td>\n",
       "      <td>...</td>\n",
       "      <td>0</td>\n",
       "      <td>0</td>\n",
       "      <td>0</td>\n",
       "      <td>0</td>\n",
       "      <td>0</td>\n",
       "      <td>0</td>\n",
       "      <td>1</td>\n",
       "      <td>0</td>\n",
       "      <td>0</td>\n",
       "      <td>0</td>\n",
       "    </tr>\n",
       "    <tr>\n",
       "      <th>96741</th>\n",
       "      <td>-0.927838</td>\n",
       "      <td>0.743254</td>\n",
       "      <td>-1.110914</td>\n",
       "      <td>-0.974695</td>\n",
       "      <td>-0.792353</td>\n",
       "      <td>0.197958</td>\n",
       "      <td>-0.304386</td>\n",
       "      <td>-0.095438</td>\n",
       "      <td>-0.20195</td>\n",
       "      <td>-0.081851</td>\n",
       "      <td>...</td>\n",
       "      <td>0</td>\n",
       "      <td>0</td>\n",
       "      <td>0</td>\n",
       "      <td>0</td>\n",
       "      <td>0</td>\n",
       "      <td>0</td>\n",
       "      <td>1</td>\n",
       "      <td>0</td>\n",
       "      <td>1</td>\n",
       "      <td>0</td>\n",
       "    </tr>\n",
       "  </tbody>\n",
       "</table>\n",
       "<p>69699 rows × 247 columns</p>\n",
       "</div>"
      ],
      "text/plain": [
       "       lead_time  arrival_date_week_number  arrival_date_day_of_month  \\\n",
       "16296   0.747647                  0.523850                   0.020975   \n",
       "88293  -0.264626                  0.304447                  -1.676859   \n",
       "44782  -0.136637                  1.108926                  -0.544970   \n",
       "62973  -0.125002                 -1.670184                   1.039675   \n",
       "76991  -0.311167                  0.596985                   0.926487   \n",
       "...          ...                       ...                        ...   \n",
       "26112  -0.927838                  0.231312                   0.586920   \n",
       "62243  -0.823121                 -1.889587                  -1.224103   \n",
       "55922   0.433493                  0.596985                   0.926487   \n",
       "57680   1.189789                  0.962657                   1.605620   \n",
       "96741  -0.927838                  0.743254                  -1.110914   \n",
       "\n",
       "       stays_in_weekend_nights  stays_in_week_nights    adults  children  \\\n",
       "16296                 0.964102              1.157222  0.197958 -0.304386   \n",
       "88293                -0.974695             -0.304960 -1.397502 -0.304386   \n",
       "44782                 0.964102             -0.304960  0.197958 -0.304386   \n",
       "62973                -0.974695             -0.304960  0.197958 -0.304386   \n",
       "76991                -0.005296             -0.792353 -1.397502 -0.304386   \n",
       "...                        ...                   ...       ...       ...   \n",
       "26112                -0.974695             -0.792353  0.197958 -0.304386   \n",
       "62243                 6.780493              9.442916 -1.397502 -0.304386   \n",
       "55922                -0.005296              0.669828  0.197958 -0.304386   \n",
       "57680                -0.974695             -0.304960  0.197958 -0.304386   \n",
       "96741                -0.974695             -0.792353  0.197958 -0.304386   \n",
       "\n",
       "         babies  is_repeated_guest  previous_cancellations  ...  \\\n",
       "16296 -0.095438           -0.20195               -0.081851  ...   \n",
       "88293 -0.095438            4.95173                2.625499  ...   \n",
       "44782 -0.095438           -0.20195               -0.081851  ...   \n",
       "62973 -0.095438           -0.20195               -0.081851  ...   \n",
       "76991 -0.095438           -0.20195               -0.081851  ...   \n",
       "...         ...                ...                     ...  ...   \n",
       "26112 -0.095438           -0.20195               -0.081851  ...   \n",
       "62243 -0.095438           -0.20195               -0.081851  ...   \n",
       "55922 -0.095438           -0.20195               -0.081851  ...   \n",
       "57680 -0.095438           -0.20195               -0.081851  ...   \n",
       "96741 -0.095438           -0.20195               -0.081851  ...   \n",
       "\n",
       "       assigned_room_type_K  assigned_room_type_L  assigned_room_type_P  \\\n",
       "16296                     0                     0                     0   \n",
       "88293                     0                     0                     0   \n",
       "44782                     0                     0                     0   \n",
       "62973                     0                     0                     0   \n",
       "76991                     0                     0                     0   \n",
       "...                     ...                   ...                   ...   \n",
       "26112                     0                     0                     0   \n",
       "62243                     0                     0                     0   \n",
       "55922                     0                     0                     0   \n",
       "57680                     0                     0                     0   \n",
       "96741                     0                     0                     0   \n",
       "\n",
       "       deposit_type_Non Refund  deposit_type_Refundable  customer_type_Group  \\\n",
       "16296                        0                        0                    0   \n",
       "88293                        0                        0                    0   \n",
       "44782                        0                        0                    0   \n",
       "62973                        0                        0                    0   \n",
       "76991                        0                        0                    0   \n",
       "...                        ...                      ...                  ...   \n",
       "26112                        0                        0                    0   \n",
       "62243                        0                        0                    0   \n",
       "55922                        0                        0                    0   \n",
       "57680                        0                        0                    0   \n",
       "96741                        0                        0                    0   \n",
       "\n",
       "       customer_type_Transient  customer_type_Transient-Party  \\\n",
       "16296                        1                              0   \n",
       "88293                        1                              0   \n",
       "44782                        0                              1   \n",
       "62973                        1                              0   \n",
       "76991                        0                              1   \n",
       "...                        ...                            ...   \n",
       "26112                        1                              0   \n",
       "62243                        1                              0   \n",
       "55922                        1                              0   \n",
       "57680                        1                              0   \n",
       "96741                        1                              0   \n",
       "\n",
       "       reservation_status_Check-Out  reservation_status_No-Show  \n",
       "16296                             1                           0  \n",
       "88293                             1                           0  \n",
       "44782                             0                           0  \n",
       "62973                             0                           0  \n",
       "76991                             1                           0  \n",
       "...                             ...                         ...  \n",
       "26112                             1                           0  \n",
       "62243                             0                           0  \n",
       "55922                             0                           1  \n",
       "57680                             0                           0  \n",
       "96741                             1                           0  \n",
       "\n",
       "[69699 rows x 247 columns]"
      ]
     },
     "execution_count": 310,
     "metadata": {},
     "output_type": "execute_result"
    }
   ],
   "source": [
    "# Verify the lengths of the splits\n",
    "print(len(x_train))\n",
    "print(len(x_test))\n",
    "\n",
    "# Output the preprocessed dataset\n",
    "x_train"
   ]
  },
  {
   "cell_type": "code",
   "execution_count": 311,
   "id": "ef1875ac",
   "metadata": {},
   "outputs": [
    {
     "name": "stdout",
     "output_type": "stream",
     "text": [
      "[0 1]\n"
     ]
    }
   ],
   "source": [
    "print(y.unique())"
   ]
  },
  {
   "cell_type": "markdown",
   "id": "a5aa0671",
   "metadata": {},
   "source": [
    "**Training and Testing data**"
   ]
  },
  {
   "cell_type": "markdown",
   "id": "cda2ce7b",
   "metadata": {},
   "source": [
    "**MODELS**"
   ]
  },
  {
   "cell_type": "markdown",
   "id": "863b28e5",
   "metadata": {},
   "source": [
    "**logistic regression**"
   ]
  },
  {
   "cell_type": "code",
   "execution_count": 312,
   "id": "0fcf486c",
   "metadata": {},
   "outputs": [
    {
     "name": "stdout",
     "output_type": "stream",
     "text": [
      "Classification Report is:\n",
      "               precision    recall  f1-score   support\n",
      "\n",
      "           0       1.00      1.00      1.00     12672\n",
      "           1       1.00      1.00      1.00      4753\n",
      "\n",
      "    accuracy                           1.00     17425\n",
      "   macro avg       1.00      1.00      1.00     17425\n",
      "weighted avg       1.00      1.00      1.00     17425\n",
      "\n"
     ]
    }
   ],
   "source": [
    "# Initialize the Logistic Regression model\n",
    "log_reg = LogisticRegression(max_iter=1000)\n",
    "\n",
    "# Fit the model to the training data\n",
    "log_reg.fit(x_train, y_train)\n",
    "\n",
    "# Make predictions on the test set\n",
    "y_pred_log_reg = log_reg.predict(x_test)\n",
    "\n",
    "# Calculate the accuracy score\n",
    "acc_log_reg = accuracy_score(y_test, y_pred_log_reg)\n",
    "\n",
    "# Generate the confusion matrix\n",
    "conf_log_reg = confusion_matrix(y_test, y_pred_log_reg)\n",
    "\n",
    "print(\"Classification Report is:\\n\",classification_report(y_test,y_pred_reg))\n",
    "reg = classification_report(y_test, y_pred_log_reg)\n"
   ]
  },
  {
   "cell_type": "markdown",
   "id": "293a2c35",
   "metadata": {},
   "source": [
    "**KNeighborsClassifier**"
   ]
  },
  {
   "cell_type": "code",
   "execution_count": 313,
   "id": "75da87d5",
   "metadata": {},
   "outputs": [
    {
     "name": "stdout",
     "output_type": "stream",
     "text": [
      "Accuracy Score of KNN is : 0.9388809182209469\n",
      "Confusion Matrix : \n",
      "[[12363   309]\n",
      " [  756  3997]]\n",
      "Classification Report : \n",
      "              precision    recall  f1-score   support\n",
      "\n",
      "           0       0.94      0.98      0.96     12672\n",
      "           1       0.93      0.84      0.88      4753\n",
      "\n",
      "    accuracy                           0.94     17425\n",
      "   macro avg       0.94      0.91      0.92     17425\n",
      "weighted avg       0.94      0.94      0.94     17425\n",
      "\n"
     ]
    }
   ],
   "source": [
    "knn = KNeighborsClassifier()\n",
    "knn.fit(x_train, y_train)\n",
    "\n",
    "y_pred_knn = knn.predict(x_test)\n",
    "\n",
    "acc_knn = accuracy_score(y_test, y_pred_knn)\n",
    "conf = confusion_matrix(y_test, y_pred_knn)\n",
    "clf_report = classification_report(y_test, y_pred_knn)\n",
    "\n",
    "print(f\"Accuracy Score of KNN is : {acc_knn}\")\n",
    "print(f\"Confusion Matrix : \\n{conf}\")\n",
    "print(f\"Classification Report : \\n{clf_report}\")"
   ]
  },
  {
   "cell_type": "markdown",
   "id": "8584e614",
   "metadata": {},
   "source": [
    "**Decision tree**"
   ]
  },
  {
   "cell_type": "code",
   "execution_count": 314,
   "id": "bb35b0ef",
   "metadata": {},
   "outputs": [
    {
     "data": {
      "text/plain": [
       "DecisionTreeClassifier(criterion='entropy', max_depth=2, random_state=123)"
      ]
     },
     "execution_count": 314,
     "metadata": {},
     "output_type": "execute_result"
    }
   ],
   "source": [
    "dtree = DecisionTreeClassifier(max_depth=2, random_state=123,criterion='entropy')\n",
    "\n",
    "dtree.fit(x_train,y_train)"
   ]
  },
  {
   "cell_type": "code",
   "execution_count": 315,
   "id": "181abb42",
   "metadata": {},
   "outputs": [
    {
     "name": "stdout",
     "output_type": "stream",
     "text": [
      "[[12672     0]\n",
      " [    0  4753]]\n",
      "              precision    recall  f1-score   support\n",
      "\n",
      "           0       1.00      1.00      1.00     12672\n",
      "           1       1.00      1.00      1.00      4753\n",
      "\n",
      "    accuracy                           1.00     17425\n",
      "   macro avg       1.00      1.00      1.00     17425\n",
      "weighted avg       1.00      1.00      1.00     17425\n",
      "\n"
     ]
    },
    {
     "data": {
      "text/plain": [
       "1.0"
      ]
     },
     "execution_count": 315,
     "metadata": {},
     "output_type": "execute_result"
    }
   ],
   "source": [
    "y_pred=dtree.predict(x_test)\n",
    "conf =print(confusion_matrix(y_test, y_pred))\n",
    "clf =print(classification_report(y_test, y_pred))\n",
    "score=accuracy_score(y_test,y_pred)\n",
    "score"
   ]
  },
  {
   "cell_type": "markdown",
   "id": "32de46ea",
   "metadata": {},
   "source": [
    "**Random Forest Classifier**"
   ]
  },
  {
   "cell_type": "code",
   "execution_count": 316,
   "id": "c9ac5ee9",
   "metadata": {},
   "outputs": [
    {
     "data": {
      "text/plain": [
       "RandomForestClassifier()"
      ]
     },
     "execution_count": 316,
     "metadata": {},
     "output_type": "execute_result"
    }
   ],
   "source": [
    "rfc=RandomForestClassifier()\n",
    "rfc.fit(x_train,y_train)"
   ]
  },
  {
   "cell_type": "code",
   "execution_count": 317,
   "id": "bb3e3d5e",
   "metadata": {},
   "outputs": [
    {
     "name": "stdout",
     "output_type": "stream",
     "text": [
      "[[12672     0]\n",
      " [    0  4753]]\n",
      "              precision    recall  f1-score   support\n",
      "\n",
      "           0       1.00      1.00      1.00     12672\n",
      "           1       1.00      1.00      1.00      4753\n",
      "\n",
      "    accuracy                           1.00     17425\n",
      "   macro avg       1.00      1.00      1.00     17425\n",
      "weighted avg       1.00      1.00      1.00     17425\n",
      "\n"
     ]
    },
    {
     "data": {
      "text/plain": [
       "1.0"
      ]
     },
     "execution_count": 317,
     "metadata": {},
     "output_type": "execute_result"
    }
   ],
   "source": [
    "y_pred=rfc.predict(x_test)\n",
    "conf =print(confusion_matrix(y_test, y_pred))\n",
    "clf =print(classification_report(y_test, y_pred))\n",
    "score=accuracy_score(y_test,y_pred)\n",
    "score"
   ]
  },
  {
   "cell_type": "markdown",
   "id": "262c70c0",
   "metadata": {},
   "source": [
    "**Support Vector Machine (SVM)**"
   ]
  },
  {
   "cell_type": "code",
   "execution_count": 318,
   "id": "4f052689",
   "metadata": {},
   "outputs": [
    {
     "name": "stdout",
     "output_type": "stream",
     "text": [
      "Confusion Matrix for SVM:\n",
      "[[12672     0]\n",
      " [   24  4729]]\n",
      "\n",
      "Classification Report for SVM:\n",
      "              precision    recall  f1-score   support\n",
      "\n",
      "           0       1.00      1.00      1.00     12672\n",
      "           1       1.00      0.99      1.00      4753\n",
      "\n",
      "    accuracy                           1.00     17425\n",
      "   macro avg       1.00      1.00      1.00     17425\n",
      "weighted avg       1.00      1.00      1.00     17425\n",
      "\n"
     ]
    }
   ],
   "source": [
    "svm_clf = SVC()\n",
    "\n",
    "svm_clf.fit(x_train, y_train)\n",
    "\n",
    "y_pred_svm = svm_clf.predict(x_test)\n",
    "\n",
    "print(\"Confusion Matrix for SVM:\")\n",
    "print(confusion_matrix(y_test, y_pred_svm))\n",
    "\n",
    "print(\"\\nClassification Report for SVM:\")\n",
    "print(classification_report(y_test, y_pred_svm))"
   ]
  },
  {
   "cell_type": "markdown",
   "id": "0b035839",
   "metadata": {},
   "source": [
    "**naive bayes**"
   ]
  },
  {
   "cell_type": "code",
   "execution_count": 319,
   "id": "49ff37e0",
   "metadata": {},
   "outputs": [
    {
     "name": "stdout",
     "output_type": "stream",
     "text": [
      "Confusion Matrix for Naive Bayes:\n",
      "[[12672     0]\n",
      " [    0  4753]]\n",
      "\n",
      "Classification Report for Naive Bayes:\n",
      "              precision    recall  f1-score   support\n",
      "\n",
      "           0       1.00      1.00      1.00     12672\n",
      "           1       1.00      1.00      1.00      4753\n",
      "\n",
      "    accuracy                           1.00     17425\n",
      "   macro avg       1.00      1.00      1.00     17425\n",
      "weighted avg       1.00      1.00      1.00     17425\n",
      "\n"
     ]
    }
   ],
   "source": [
    "nb_clf = GaussianNB()\n",
    "\n",
    "nb_clf.fit(x_train, y_train)\n",
    "y_pred_nb = nb_clf.predict(x_test)\n",
    "\n",
    "\n",
    "print(\"Confusion Matrix for Naive Bayes:\")\n",
    "print(confusion_matrix(y_test, y_pred_nb))\n",
    "\n",
    "print(\"\\nClassification Report for Naive Bayes:\")\n",
    "print(classification_report(y_test, y_pred_nb))"
   ]
  },
  {
   "cell_type": "markdown",
   "id": "ede4ac30",
   "metadata": {},
   "source": [
    "**hyperparameter tuning and model training**"
   ]
  },
  {
   "cell_type": "markdown",
   "id": "dffa7df2",
   "metadata": {},
   "source": [
    "**Tuned Naive Bayes**"
   ]
  },
  {
   "cell_type": "code",
   "execution_count": 320,
   "id": "1813cb5f",
   "metadata": {
    "scrolled": true
   },
   "outputs": [
    {
     "name": "stdout",
     "output_type": "stream",
     "text": [
      "              precision    recall  f1-score   support\n",
      "\n",
      "           0       1.00      1.00      1.00     12672\n",
      "           1       1.00      1.00      1.00      4753\n",
      "\n",
      "    accuracy                           1.00     17425\n",
      "   macro avg       1.00      1.00      1.00     17425\n",
      "weighted avg       1.00      1.00      1.00     17425\n",
      "\n"
     ]
    }
   ],
   "source": [
    "gnb = GaussianNB()\n",
    "\n",
    "param_grid_nb = {\n",
    "    'var_smoothing': [1e-9, 1e-8, 1e-7, 1e-6, 1e-5]\n",
    "}\n",
    "\n",
    "grid_nb = GridSearchCV(gnb, param_grid_nb, cv=5)\n",
    "grid_nb.fit(x_train, y_train)\n",
    "\n",
    "best_nb = grid_nb.best_estimator_\n",
    "\n",
    "y_pred_nb = best_nb.predict(x_test)\n",
    "\n",
    "print(classification_report(y_test, y_pred_nb))"
   ]
  },
  {
   "cell_type": "markdown",
   "id": "18878542",
   "metadata": {},
   "source": [
    "**Tuned Decision Tree**"
   ]
  },
  {
   "cell_type": "code",
   "execution_count": 321,
   "id": "bdff3344",
   "metadata": {},
   "outputs": [
    {
     "name": "stdout",
     "output_type": "stream",
     "text": [
      "[[12672     0]\n",
      " [    0  4753]]\n",
      "              precision    recall  f1-score   support\n",
      "\n",
      "           0       1.00      1.00      1.00     12672\n",
      "           1       1.00      1.00      1.00      4753\n",
      "\n",
      "    accuracy                           1.00     17425\n",
      "   macro avg       1.00      1.00      1.00     17425\n",
      "weighted avg       1.00      1.00      1.00     17425\n",
      "\n"
     ]
    }
   ],
   "source": [
    "dt_clf = DecisionTreeClassifier()\n",
    "\n",
    "param_grid_dt = {\n",
    "    'max_depth': [None, 10, 20, 30],\n",
    "    'min_samples_split': [2, 5, 10],\n",
    "    'min_samples_leaf': [1, 2, 4],\n",
    "    'criterion': ['gini', 'entropy']\n",
    "}\n",
    "\n",
    "\n",
    "grid_dt = GridSearchCV(dt_clf, param_grid_dt, cv=5)\n",
    "grid_dt.fit(x_train, y_train)\n",
    "\n",
    "\n",
    "best_dt = grid_dt.best_estimator_\n",
    "\n",
    "\n",
    "y_pred_dt = best_dt.predict(x_test)\n",
    "\n",
    "\n",
    "print(confusion_matrix(y_test, y_pred_dt))\n",
    "print(classification_report(y_test, y_pred_dt))"
   ]
  },
  {
   "cell_type": "markdown",
   "id": "5631d215",
   "metadata": {},
   "source": [
    "**Ensemble learning methods**"
   ]
  },
  {
   "cell_type": "code",
   "execution_count": 322,
   "id": "8036f74c",
   "metadata": {},
   "outputs": [
    {
     "name": "stdout",
     "output_type": "stream",
     "text": [
      "Ensemble Voting Classifier Classification Report:\n",
      "               precision    recall  f1-score   support\n",
      "\n",
      "           0       1.00      1.00      1.00     12672\n",
      "           1       1.00      1.00      1.00      4753\n",
      "\n",
      "    accuracy                           1.00     17425\n",
      "   macro avg       1.00      1.00      1.00     17425\n",
      "weighted avg       1.00      1.00      1.00     17425\n",
      "\n",
      "[[12672     0]\n",
      " [    0  4753]]\n"
     ]
    }
   ],
   "source": [
    "voting_clf = VotingClassifier(\n",
    "    estimators=[\n",
    "        ('dt', best_dt),\n",
    "        ('knn', knn),\n",
    "        ('rf', rfc)\n",
    "    ],\n",
    "    voting='hard'  \n",
    ")\n",
    "\n",
    "\n",
    "voting_clf.fit(x_train, y_train)\n",
    "y_pred_voting = voting_clf.predict(x_test)\n",
    "\n",
    "\n",
    "print(\"Ensemble Voting Classifier Classification Report:\\n\", classification_report(y_test, y_pred_voting))\n",
    "print(confusion_matrix(y_test, y_pred_voting))"
   ]
  },
  {
   "cell_type": "code",
   "execution_count": null,
   "id": "e5daf19d",
   "metadata": {},
   "outputs": [],
   "source": []
  }
 ],
 "metadata": {
  "kernelspec": {
   "display_name": "Python 3",
   "language": "python",
   "name": "python3"
  },
  "language_info": {
   "codemirror_mode": {
    "name": "ipython",
    "version": 3
   },
   "file_extension": ".py",
   "mimetype": "text/x-python",
   "name": "python",
   "nbconvert_exporter": "python",
   "pygments_lexer": "ipython3",
   "version": "3.6.6"
  }
 },
 "nbformat": 4,
 "nbformat_minor": 5
}
